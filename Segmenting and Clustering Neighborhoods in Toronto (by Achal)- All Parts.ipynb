{
 "cells": [
  {
   "cell_type": "markdown",
   "metadata": {},
   "source": [
    "# PART-I Segmenting and Clustering Neighborhoods in Toronto (by Achal)"
   ]
  },
  {
   "cell_type": "markdown",
   "metadata": {},
   "source": [
    "Import requests and panda"
   ]
  },
  {
   "cell_type": "code",
   "execution_count": 1,
   "metadata": {},
   "outputs": [],
   "source": [
    "import requests\n",
    "import pandas as pd"
   ]
  },
  {
   "cell_type": "markdown",
   "metadata": {},
   "source": [
    "Get the HTML of the Wiki page, convert into a table with help of read_html (read HTML tables into a list of DataFrame objects), remove cells with a borough that is Not assigned."
   ]
  },
  {
   "cell_type": "code",
   "execution_count": 2,
   "metadata": {},
   "outputs": [
    {
     "data": {
      "text/html": [
       "<div>\n",
       "<style scoped>\n",
       "    .dataframe tbody tr th:only-of-type {\n",
       "        vertical-align: middle;\n",
       "    }\n",
       "\n",
       "    .dataframe tbody tr th {\n",
       "        vertical-align: top;\n",
       "    }\n",
       "\n",
       "    .dataframe thead th {\n",
       "        text-align: right;\n",
       "    }\n",
       "</style>\n",
       "<table border=\"1\" class=\"dataframe\">\n",
       "  <thead>\n",
       "    <tr style=\"text-align: right;\">\n",
       "      <th></th>\n",
       "      <th>Postal Code</th>\n",
       "      <th>Borough</th>\n",
       "      <th>Neighborhood</th>\n",
       "    </tr>\n",
       "  </thead>\n",
       "  <tbody>\n",
       "    <tr>\n",
       "      <th>2</th>\n",
       "      <td>M3A</td>\n",
       "      <td>North York</td>\n",
       "      <td>Parkwoods</td>\n",
       "    </tr>\n",
       "    <tr>\n",
       "      <th>3</th>\n",
       "      <td>M4A</td>\n",
       "      <td>North York</td>\n",
       "      <td>Victoria Village</td>\n",
       "    </tr>\n",
       "    <tr>\n",
       "      <th>4</th>\n",
       "      <td>M5A</td>\n",
       "      <td>Downtown Toronto</td>\n",
       "      <td>Regent Park, Harbourfront</td>\n",
       "    </tr>\n",
       "    <tr>\n",
       "      <th>5</th>\n",
       "      <td>M6A</td>\n",
       "      <td>North York</td>\n",
       "      <td>Lawrence Manor, Lawrence Heights</td>\n",
       "    </tr>\n",
       "    <tr>\n",
       "      <th>6</th>\n",
       "      <td>M7A</td>\n",
       "      <td>Downtown Toronto</td>\n",
       "      <td>Queen's Park, Ontario Provincial Government</td>\n",
       "    </tr>\n",
       "  </tbody>\n",
       "</table>\n",
       "</div>"
      ],
      "text/plain": [
       "  Postal Code           Borough                                 Neighborhood\n",
       "2         M3A        North York                                    Parkwoods\n",
       "3         M4A        North York                             Victoria Village\n",
       "4         M5A  Downtown Toronto                    Regent Park, Harbourfront\n",
       "5         M6A        North York             Lawrence Manor, Lawrence Heights\n",
       "6         M7A  Downtown Toronto  Queen's Park, Ontario Provincial Government"
      ]
     },
     "execution_count": 2,
     "metadata": {},
     "output_type": "execute_result"
    }
   ],
   "source": [
    "wiki = 'https://en.wikipedia.org/wiki/List_of_postal_codes_of_Canada:_M'\n",
    "wikipedia_page = requests.get(wiki)\n",
    "\n",
    "df_raw = pd.read_html(wikipedia_page.content, header=0)[0]\n",
    "df_new = df_raw[df_raw.Borough != 'Not assigned']\n",
    "\n",
    "df_new.head()"
   ]
  },
  {
   "cell_type": "markdown",
   "metadata": {},
   "source": [
    "Find whether there is a \"Not assigned\" in Neighbourhood"
   ]
  },
  {
   "cell_type": "markdown",
   "metadata": {},
   "source": [
    "If we have Neighbourhood Not assigned, we change it with the value of Borough"
   ]
  },
  {
   "cell_type": "code",
   "execution_count": 3,
   "metadata": {},
   "outputs": [
    {
     "name": "stderr",
     "output_type": "stream",
     "text": [
      "C:\\Users\\ASUS\\Anaconda3\\lib\\site-packages\\pandas\\core\\generic.py:6586: SettingWithCopyWarning: \n",
      "A value is trying to be set on a copy of a slice from a DataFrame\n",
      "\n",
      "See the caveats in the documentation: http://pandas.pydata.org/pandas-docs/stable/indexing.html#indexing-view-versus-copy\n",
      "  self._update_inplace(new_data)\n"
     ]
    },
    {
     "data": {
      "text/html": [
       "<div>\n",
       "<style scoped>\n",
       "    .dataframe tbody tr th:only-of-type {\n",
       "        vertical-align: middle;\n",
       "    }\n",
       "\n",
       "    .dataframe tbody tr th {\n",
       "        vertical-align: top;\n",
       "    }\n",
       "\n",
       "    .dataframe thead th {\n",
       "        text-align: right;\n",
       "    }\n",
       "</style>\n",
       "<table border=\"1\" class=\"dataframe\">\n",
       "  <thead>\n",
       "    <tr style=\"text-align: right;\">\n",
       "      <th></th>\n",
       "      <th>Postal Code</th>\n",
       "      <th>Borough</th>\n",
       "      <th>Neighborhood</th>\n",
       "    </tr>\n",
       "  </thead>\n",
       "  <tbody>\n",
       "    <tr>\n",
       "      <th>2</th>\n",
       "      <td>M3A</td>\n",
       "      <td>North York</td>\n",
       "      <td>Parkwoods</td>\n",
       "    </tr>\n",
       "    <tr>\n",
       "      <th>3</th>\n",
       "      <td>M4A</td>\n",
       "      <td>North York</td>\n",
       "      <td>Victoria Village</td>\n",
       "    </tr>\n",
       "    <tr>\n",
       "      <th>4</th>\n",
       "      <td>M5A</td>\n",
       "      <td>Downtown Toronto</td>\n",
       "      <td>Regent Park, Harbourfront</td>\n",
       "    </tr>\n",
       "    <tr>\n",
       "      <th>5</th>\n",
       "      <td>M6A</td>\n",
       "      <td>North York</td>\n",
       "      <td>Lawrence Manor, Lawrence Heights</td>\n",
       "    </tr>\n",
       "    <tr>\n",
       "      <th>6</th>\n",
       "      <td>M7A</td>\n",
       "      <td>Downtown Toronto</td>\n",
       "      <td>Queen's Park, Ontario Provincial Government</td>\n",
       "    </tr>\n",
       "    <tr>\n",
       "      <th>8</th>\n",
       "      <td>M9A</td>\n",
       "      <td>Etobicoke</td>\n",
       "      <td>Islington Avenue, Humber Valley Village</td>\n",
       "    </tr>\n",
       "    <tr>\n",
       "      <th>9</th>\n",
       "      <td>M1B</td>\n",
       "      <td>Scarborough</td>\n",
       "      <td>Malvern, Rouge</td>\n",
       "    </tr>\n",
       "    <tr>\n",
       "      <th>11</th>\n",
       "      <td>M3B</td>\n",
       "      <td>North York</td>\n",
       "      <td>Don Mills</td>\n",
       "    </tr>\n",
       "  </tbody>\n",
       "</table>\n",
       "</div>"
      ],
      "text/plain": [
       "   Postal Code           Borough                                 Neighborhood\n",
       "2          M3A        North York                                    Parkwoods\n",
       "3          M4A        North York                             Victoria Village\n",
       "4          M5A  Downtown Toronto                    Regent Park, Harbourfront\n",
       "5          M6A        North York             Lawrence Manor, Lawrence Heights\n",
       "6          M7A  Downtown Toronto  Queen's Park, Ontario Provincial Government\n",
       "8          M9A         Etobicoke      Islington Avenue, Humber Valley Village\n",
       "9          M1B       Scarborough                               Malvern, Rouge\n",
       "11         M3B        North York                                    Don Mills"
      ]
     },
     "execution_count": 3,
     "metadata": {},
     "output_type": "execute_result"
    }
   ],
   "source": [
    "df_new.loc[df_new.Neighborhood == 'Not assigned']\n",
    "df_new.Neighborhood.replace('Not assigned',df_new.Borough,inplace=True)\n",
    "df_new.head(8)"
   ]
  },
  {
   "cell_type": "markdown",
   "metadata": {},
   "source": [
    "Group Neighbourhoods with the same Postcode"
   ]
  },
  {
   "cell_type": "code",
   "execution_count": 4,
   "metadata": {},
   "outputs": [
    {
     "data": {
      "text/html": [
       "<div>\n",
       "<style scoped>\n",
       "    .dataframe tbody tr th:only-of-type {\n",
       "        vertical-align: middle;\n",
       "    }\n",
       "\n",
       "    .dataframe tbody tr th {\n",
       "        vertical-align: top;\n",
       "    }\n",
       "\n",
       "    .dataframe thead th {\n",
       "        text-align: right;\n",
       "    }\n",
       "</style>\n",
       "<table border=\"1\" class=\"dataframe\">\n",
       "  <thead>\n",
       "    <tr style=\"text-align: right;\">\n",
       "      <th></th>\n",
       "      <th>Postal Code</th>\n",
       "      <th>Borough</th>\n",
       "      <th>Neighbourhood</th>\n",
       "    </tr>\n",
       "  </thead>\n",
       "  <tbody>\n",
       "    <tr>\n",
       "      <th>0</th>\n",
       "      <td>M1B</td>\n",
       "      <td>Scarborough</td>\n",
       "      <td>Malvern, Rouge</td>\n",
       "    </tr>\n",
       "    <tr>\n",
       "      <th>1</th>\n",
       "      <td>M1C</td>\n",
       "      <td>Scarborough</td>\n",
       "      <td>Rouge Hill, Port Union, Highland Creek</td>\n",
       "    </tr>\n",
       "    <tr>\n",
       "      <th>2</th>\n",
       "      <td>M1E</td>\n",
       "      <td>Scarborough</td>\n",
       "      <td>Guildwood, Morningside, West Hill</td>\n",
       "    </tr>\n",
       "    <tr>\n",
       "      <th>3</th>\n",
       "      <td>M1G</td>\n",
       "      <td>Scarborough</td>\n",
       "      <td>Woburn</td>\n",
       "    </tr>\n",
       "    <tr>\n",
       "      <th>4</th>\n",
       "      <td>M1H</td>\n",
       "      <td>Scarborough</td>\n",
       "      <td>Cedarbrae</td>\n",
       "    </tr>\n",
       "  </tbody>\n",
       "</table>\n",
       "</div>"
      ],
      "text/plain": [
       "  Postal Code      Borough                           Neighbourhood\n",
       "0         M1B  Scarborough                          Malvern, Rouge\n",
       "1         M1C  Scarborough  Rouge Hill, Port Union, Highland Creek\n",
       "2         M1E  Scarborough       Guildwood, Morningside, West Hill\n",
       "3         M1G  Scarborough                                  Woburn\n",
       "4         M1H  Scarborough                               Cedarbrae"
      ]
     },
     "execution_count": 4,
     "metadata": {},
     "output_type": "execute_result"
    }
   ],
   "source": [
    "df_toronto = df_new.groupby(['Postal Code', 'Borough'])['Neighborhood'].apply(lambda x: ', '.join(x))\n",
    "df_toronto = df_toronto.reset_index()\n",
    "df_toronto.rename(columns = {'Postal Code':'Postal Code'}, inplace = True)\n",
    "df_toronto.rename(columns = {'Neighborhood':'Neighbourhood'}, inplace = True)\n",
    "df_toronto.head()"
   ]
  },
  {
   "cell_type": "code",
   "execution_count": 5,
   "metadata": {},
   "outputs": [
    {
     "data": {
      "text/plain": [
       "(103, 3)"
      ]
     },
     "execution_count": 5,
     "metadata": {},
     "output_type": "execute_result"
    }
   ],
   "source": [
    "df_toronto.shape"
   ]
  },
  {
   "cell_type": "markdown",
   "metadata": {},
   "source": [
    "# PART-II "
   ]
  },
  {
   "cell_type": "markdown",
   "metadata": {},
   "source": [
    "Get the latitude and the longitude coordinates of each neighborhood, Use the csv file, because of some problems with geocoder"
   ]
  },
  {
   "cell_type": "code",
   "execution_count": 6,
   "metadata": {},
   "outputs": [
    {
     "data": {
      "text/html": [
       "<div>\n",
       "<style scoped>\n",
       "    .dataframe tbody tr th:only-of-type {\n",
       "        vertical-align: middle;\n",
       "    }\n",
       "\n",
       "    .dataframe tbody tr th {\n",
       "        vertical-align: top;\n",
       "    }\n",
       "\n",
       "    .dataframe thead th {\n",
       "        text-align: right;\n",
       "    }\n",
       "</style>\n",
       "<table border=\"1\" class=\"dataframe\">\n",
       "  <thead>\n",
       "    <tr style=\"text-align: right;\">\n",
       "      <th></th>\n",
       "      <th>Postal Code</th>\n",
       "      <th>Latitude</th>\n",
       "      <th>Longitude</th>\n",
       "    </tr>\n",
       "  </thead>\n",
       "  <tbody>\n",
       "    <tr>\n",
       "      <th>0</th>\n",
       "      <td>M1B</td>\n",
       "      <td>43.806686</td>\n",
       "      <td>-79.194353</td>\n",
       "    </tr>\n",
       "    <tr>\n",
       "      <th>1</th>\n",
       "      <td>M1C</td>\n",
       "      <td>43.784535</td>\n",
       "      <td>-79.160497</td>\n",
       "    </tr>\n",
       "    <tr>\n",
       "      <th>2</th>\n",
       "      <td>M1E</td>\n",
       "      <td>43.763573</td>\n",
       "      <td>-79.188711</td>\n",
       "    </tr>\n",
       "    <tr>\n",
       "      <th>3</th>\n",
       "      <td>M1G</td>\n",
       "      <td>43.770992</td>\n",
       "      <td>-79.216917</td>\n",
       "    </tr>\n",
       "    <tr>\n",
       "      <th>4</th>\n",
       "      <td>M1H</td>\n",
       "      <td>43.773136</td>\n",
       "      <td>-79.239476</td>\n",
       "    </tr>\n",
       "  </tbody>\n",
       "</table>\n",
       "</div>"
      ],
      "text/plain": [
       "  Postal Code   Latitude  Longitude\n",
       "0         M1B  43.806686 -79.194353\n",
       "1         M1C  43.784535 -79.160497\n",
       "2         M1E  43.763573 -79.188711\n",
       "3         M1G  43.770992 -79.216917\n",
       "4         M1H  43.773136 -79.239476"
      ]
     },
     "execution_count": 6,
     "metadata": {},
     "output_type": "execute_result"
    }
   ],
   "source": [
    "url = 'http://cocl.us/Geospatial_data'\n",
    "df_geo=pd.read_csv(url)\n",
    "df_geo.head()"
   ]
  },
  {
   "cell_type": "code",
   "execution_count": 7,
   "metadata": {},
   "outputs": [
    {
     "data": {
      "text/plain": [
       "(103, 3)"
      ]
     },
     "execution_count": 7,
     "metadata": {},
     "output_type": "execute_result"
    }
   ],
   "source": [
    "#check the sshape o the csv file\n",
    "df_geo.shape\n"
   ]
  },
  {
   "cell_type": "code",
   "execution_count": 8,
   "metadata": {},
   "outputs": [
    {
     "data": {
      "text/html": [
       "<div>\n",
       "<style scoped>\n",
       "    .dataframe tbody tr th:only-of-type {\n",
       "        vertical-align: middle;\n",
       "    }\n",
       "\n",
       "    .dataframe tbody tr th {\n",
       "        vertical-align: top;\n",
       "    }\n",
       "\n",
       "    .dataframe thead th {\n",
       "        text-align: right;\n",
       "    }\n",
       "</style>\n",
       "<table border=\"1\" class=\"dataframe\">\n",
       "  <thead>\n",
       "    <tr style=\"text-align: right;\">\n",
       "      <th></th>\n",
       "      <th>Postal Code</th>\n",
       "      <th>Latitude</th>\n",
       "      <th>Longitude</th>\n",
       "      <th>Borough</th>\n",
       "      <th>Neighbourhood</th>\n",
       "    </tr>\n",
       "  </thead>\n",
       "  <tbody>\n",
       "    <tr>\n",
       "      <th>0</th>\n",
       "      <td>M1B</td>\n",
       "      <td>43.806686</td>\n",
       "      <td>-79.194353</td>\n",
       "      <td>Scarborough</td>\n",
       "      <td>Malvern, Rouge</td>\n",
       "    </tr>\n",
       "    <tr>\n",
       "      <th>1</th>\n",
       "      <td>M1C</td>\n",
       "      <td>43.784535</td>\n",
       "      <td>-79.160497</td>\n",
       "      <td>Scarborough</td>\n",
       "      <td>Rouge Hill, Port Union, Highland Creek</td>\n",
       "    </tr>\n",
       "    <tr>\n",
       "      <th>2</th>\n",
       "      <td>M1E</td>\n",
       "      <td>43.763573</td>\n",
       "      <td>-79.188711</td>\n",
       "      <td>Scarborough</td>\n",
       "      <td>Guildwood, Morningside, West Hill</td>\n",
       "    </tr>\n",
       "    <tr>\n",
       "      <th>3</th>\n",
       "      <td>M1G</td>\n",
       "      <td>43.770992</td>\n",
       "      <td>-79.216917</td>\n",
       "      <td>Scarborough</td>\n",
       "      <td>Woburn</td>\n",
       "    </tr>\n",
       "    <tr>\n",
       "      <th>4</th>\n",
       "      <td>M1H</td>\n",
       "      <td>43.773136</td>\n",
       "      <td>-79.239476</td>\n",
       "      <td>Scarborough</td>\n",
       "      <td>Cedarbrae</td>\n",
       "    </tr>\n",
       "  </tbody>\n",
       "</table>\n",
       "</div>"
      ],
      "text/plain": [
       "  Postal Code   Latitude  Longitude      Borough  \\\n",
       "0         M1B  43.806686 -79.194353  Scarborough   \n",
       "1         M1C  43.784535 -79.160497  Scarborough   \n",
       "2         M1E  43.763573 -79.188711  Scarborough   \n",
       "3         M1G  43.770992 -79.216917  Scarborough   \n",
       "4         M1H  43.773136 -79.239476  Scarborough   \n",
       "\n",
       "                            Neighbourhood  \n",
       "0                          Malvern, Rouge  \n",
       "1  Rouge Hill, Port Union, Highland Creek  \n",
       "2       Guildwood, Morningside, West Hill  \n",
       "3                                  Woburn  \n",
       "4                               Cedarbrae  "
      ]
     },
     "execution_count": 8,
     "metadata": {},
     "output_type": "execute_result"
    }
   ],
   "source": [
    "df = pd.merge(df_geo, df_toronto, on='Postal Code')\n",
    "df.head()"
   ]
  },
  {
   "cell_type": "code",
   "execution_count": 9,
   "metadata": {},
   "outputs": [
    {
     "data": {
      "text/html": [
       "<div>\n",
       "<style scoped>\n",
       "    .dataframe tbody tr th:only-of-type {\n",
       "        vertical-align: middle;\n",
       "    }\n",
       "\n",
       "    .dataframe tbody tr th {\n",
       "        vertical-align: top;\n",
       "    }\n",
       "\n",
       "    .dataframe thead th {\n",
       "        text-align: right;\n",
       "    }\n",
       "</style>\n",
       "<table border=\"1\" class=\"dataframe\">\n",
       "  <thead>\n",
       "    <tr style=\"text-align: right;\">\n",
       "      <th></th>\n",
       "      <th>Postal Code</th>\n",
       "      <th>Borough</th>\n",
       "      <th>Neighborhood</th>\n",
       "      <th>Latitude</th>\n",
       "      <th>Longitude</th>\n",
       "    </tr>\n",
       "  </thead>\n",
       "  <tbody>\n",
       "    <tr>\n",
       "      <th>0</th>\n",
       "      <td>M1B</td>\n",
       "      <td>Scarborough</td>\n",
       "      <td>Malvern, Rouge</td>\n",
       "      <td>43.806686</td>\n",
       "      <td>-79.194353</td>\n",
       "    </tr>\n",
       "    <tr>\n",
       "      <th>1</th>\n",
       "      <td>M1C</td>\n",
       "      <td>Scarborough</td>\n",
       "      <td>Rouge Hill, Port Union, Highland Creek</td>\n",
       "      <td>43.784535</td>\n",
       "      <td>-79.160497</td>\n",
       "    </tr>\n",
       "    <tr>\n",
       "      <th>2</th>\n",
       "      <td>M1E</td>\n",
       "      <td>Scarborough</td>\n",
       "      <td>Guildwood, Morningside, West Hill</td>\n",
       "      <td>43.763573</td>\n",
       "      <td>-79.188711</td>\n",
       "    </tr>\n",
       "    <tr>\n",
       "      <th>3</th>\n",
       "      <td>M1G</td>\n",
       "      <td>Scarborough</td>\n",
       "      <td>Woburn</td>\n",
       "      <td>43.770992</td>\n",
       "      <td>-79.216917</td>\n",
       "    </tr>\n",
       "    <tr>\n",
       "      <th>4</th>\n",
       "      <td>M1H</td>\n",
       "      <td>Scarborough</td>\n",
       "      <td>Cedarbrae</td>\n",
       "      <td>43.773136</td>\n",
       "      <td>-79.239476</td>\n",
       "    </tr>\n",
       "    <tr>\n",
       "      <th>5</th>\n",
       "      <td>M1J</td>\n",
       "      <td>Scarborough</td>\n",
       "      <td>Scarborough Village</td>\n",
       "      <td>43.744734</td>\n",
       "      <td>-79.239476</td>\n",
       "    </tr>\n",
       "    <tr>\n",
       "      <th>6</th>\n",
       "      <td>M1K</td>\n",
       "      <td>Scarborough</td>\n",
       "      <td>Kennedy Park, Ionview, East Birchmount Park</td>\n",
       "      <td>43.727929</td>\n",
       "      <td>-79.262029</td>\n",
       "    </tr>\n",
       "    <tr>\n",
       "      <th>7</th>\n",
       "      <td>M1L</td>\n",
       "      <td>Scarborough</td>\n",
       "      <td>Golden Mile, Clairlea, Oakridge</td>\n",
       "      <td>43.711112</td>\n",
       "      <td>-79.284577</td>\n",
       "    </tr>\n",
       "    <tr>\n",
       "      <th>8</th>\n",
       "      <td>M1M</td>\n",
       "      <td>Scarborough</td>\n",
       "      <td>Cliffside, Cliffcrest, Scarborough Village West</td>\n",
       "      <td>43.716316</td>\n",
       "      <td>-79.239476</td>\n",
       "    </tr>\n",
       "    <tr>\n",
       "      <th>9</th>\n",
       "      <td>M1N</td>\n",
       "      <td>Scarborough</td>\n",
       "      <td>Birch Cliff, Cliffside West</td>\n",
       "      <td>43.692657</td>\n",
       "      <td>-79.264848</td>\n",
       "    </tr>\n",
       "    <tr>\n",
       "      <th>10</th>\n",
       "      <td>M1P</td>\n",
       "      <td>Scarborough</td>\n",
       "      <td>Dorset Park, Wexford Heights, Scarborough Town...</td>\n",
       "      <td>43.757410</td>\n",
       "      <td>-79.273304</td>\n",
       "    </tr>\n",
       "  </tbody>\n",
       "</table>\n",
       "</div>"
      ],
      "text/plain": [
       "   Postal Code      Borough  \\\n",
       "0          M1B  Scarborough   \n",
       "1          M1C  Scarborough   \n",
       "2          M1E  Scarborough   \n",
       "3          M1G  Scarborough   \n",
       "4          M1H  Scarborough   \n",
       "5          M1J  Scarborough   \n",
       "6          M1K  Scarborough   \n",
       "7          M1L  Scarborough   \n",
       "8          M1M  Scarborough   \n",
       "9          M1N  Scarborough   \n",
       "10         M1P  Scarborough   \n",
       "\n",
       "                                         Neighborhood   Latitude  Longitude  \n",
       "0                                      Malvern, Rouge  43.806686 -79.194353  \n",
       "1              Rouge Hill, Port Union, Highland Creek  43.784535 -79.160497  \n",
       "2                   Guildwood, Morningside, West Hill  43.763573 -79.188711  \n",
       "3                                              Woburn  43.770992 -79.216917  \n",
       "4                                           Cedarbrae  43.773136 -79.239476  \n",
       "5                                 Scarborough Village  43.744734 -79.239476  \n",
       "6         Kennedy Park, Ionview, East Birchmount Park  43.727929 -79.262029  \n",
       "7                     Golden Mile, Clairlea, Oakridge  43.711112 -79.284577  \n",
       "8     Cliffside, Cliffcrest, Scarborough Village West  43.716316 -79.239476  \n",
       "9                         Birch Cliff, Cliffside West  43.692657 -79.264848  \n",
       "10  Dorset Park, Wexford Heights, Scarborough Town...  43.757410 -79.273304  "
      ]
     },
     "execution_count": 9,
     "metadata": {},
     "output_type": "execute_result"
    }
   ],
   "source": [
    "df = df[['Postal Code', 'Borough', 'Neighbourhood', 'Latitude', 'Longitude']]\n",
    "df.rename(columns = {'Neighbourhood':'Neighborhood'}, inplace = True)\n",
    "df.head(11)"
   ]
  },
  {
   "cell_type": "code",
   "execution_count": 10,
   "metadata": {},
   "outputs": [
    {
     "data": {
      "text/plain": [
       "(103, 5)"
      ]
     },
     "execution_count": 10,
     "metadata": {},
     "output_type": "execute_result"
    }
   ],
   "source": [
    "df.shape"
   ]
  },
  {
   "cell_type": "markdown",
   "metadata": {},
   "source": [
    "#  PART-III "
   ]
  },
  {
   "cell_type": "markdown",
   "metadata": {},
   "source": [
    "Exploring and clustering the neighborhoods"
   ]
  },
  {
   "cell_type": "code",
   "execution_count": 11,
   "metadata": {},
   "outputs": [
    {
     "name": "stdout",
     "output_type": "stream",
     "text": [
      "Requirement already satisfied: geopy in c:\\users\\asus\\anaconda3\\lib\\site-packages (1.22.0)\n",
      "Requirement already satisfied: geographiclib<2,>=1.49 in c:\\users\\asus\\anaconda3\\lib\\site-packages (from geopy) (1.50)\n",
      "Note: you may need to restart the kernel to use updated packages.\n"
     ]
    }
   ],
   "source": [
    "pip install geopy"
   ]
  },
  {
   "cell_type": "code",
   "execution_count": 12,
   "metadata": {},
   "outputs": [
    {
     "name": "stdout",
     "output_type": "stream",
     "text": [
      "Requirement already satisfied: folium in c:\\users\\asus\\anaconda3\\lib\\site-packages (0.11.0)\n",
      "Requirement already satisfied: numpy in c:\\users\\asus\\anaconda3\\lib\\site-packages (from folium) (1.16.2)\n",
      "Requirement already satisfied: branca>=0.3.0 in c:\\users\\asus\\anaconda3\\lib\\site-packages (from folium) (0.4.1)\n",
      "Requirement already satisfied: requests in c:\\users\\asus\\anaconda3\\lib\\site-packages (from folium) (2.21.0)\n",
      "Requirement already satisfied: jinja2>=2.9 in c:\\users\\asus\\anaconda3\\lib\\site-packages (from folium) (2.10)\n",
      "Requirement already satisfied: urllib3<1.25,>=1.21.1 in c:\\users\\asus\\anaconda3\\lib\\site-packages (from requests->folium) (1.24.1)\n",
      "Requirement already satisfied: idna<2.9,>=2.5 in c:\\users\\asus\\anaconda3\\lib\\site-packages (from requests->folium) (2.8)\n",
      "Requirement already satisfied: chardet<3.1.0,>=3.0.2 in c:\\users\\asus\\anaconda3\\lib\\site-packages (from requests->folium) (3.0.4)\n",
      "Requirement already satisfied: certifi>=2017.4.17 in c:\\users\\asus\\anaconda3\\lib\\site-packages (from requests->folium) (2020.6.20)\n",
      "Requirement already satisfied: MarkupSafe>=0.23 in c:\\users\\asus\\anaconda3\\lib\\site-packages (from jinja2>=2.9->folium) (1.1.1)\n",
      "Note: you may need to restart the kernel to use updated packages.\n"
     ]
    }
   ],
   "source": [
    "pip install folium"
   ]
  },
  {
   "cell_type": "code",
   "execution_count": 13,
   "metadata": {},
   "outputs": [
    {
     "name": "stdout",
     "output_type": "stream",
     "text": [
      "Libraries imported.\n"
     ]
    }
   ],
   "source": [
    "import json # library to handle JSON files\n",
    "\n",
    "#!conda install -c conda-forge geopy --yes # uncomment this line if you haven't completed the Foursquare API lab\n",
    "from geopy.geocoders import Nominatim # convert an address into latitude and longitude values\n",
    "\n",
    "import requests # library to handle requests\n",
    "from pandas.io.json import json_normalize # tranform JSON file into a pandas dataframe\n",
    "\n",
    "# Matplotlib and associated plotting modules\n",
    "import matplotlib.cm as cm\n",
    "import matplotlib.colors as colors\n",
    "\n",
    "# import k-means from clustering stage\n",
    "from sklearn.cluster import KMeans\n",
    "\n",
    "#!conda install -c conda-forge folium=0.5.0 --yes # uncomment this line if you haven't completed the Foursquare API lab\n",
    "import folium # map rendering library\n",
    "\n",
    "print('Libraries imported.')\n"
   ]
  },
  {
   "cell_type": "code",
   "execution_count": 14,
   "metadata": {},
   "outputs": [
    {
     "name": "stdout",
     "output_type": "stream",
     "text": [
      "The geograpical coordinate of Toronto are 43.6534817, -79.3839347.\n"
     ]
    }
   ],
   "source": [
    "address = 'Toronto, Ontario'\n",
    "\n",
    "geolocator = Nominatim(user_agent=\"toronto_explorer\")\n",
    "location = geolocator.geocode(address)\n",
    "latitude = location.latitude\n",
    "longitude = location.longitude\n",
    "print('The geograpical coordinate of Toronto are {}, {}.'.format(latitude, longitude))"
   ]
  },
  {
   "cell_type": "code",
   "execution_count": 15,
   "metadata": {},
   "outputs": [
    {
     "data": {
      "text/html": [
       "<div style=\"width:100%;\"><div style=\"position:relative;width:100%;height:0;padding-bottom:60%;\"><span style=\"color:#565656\">Make this Notebook Trusted to load map: File -> Trust Notebook</span><iframe src=\"about:blank\" style=\"position:absolute;width:100%;height:100%;left:0;top:0;border:none !important;\" data-html=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 onload=\"this.contentDocument.open();this.contentDocument.write(atob(this.getAttribute('data-html')));this.contentDocument.close();\" allowfullscreen webkitallowfullscreen mozallowfullscreen></iframe></div></div>"
      ],
      "text/plain": [
       "<folium.folium.Map at 0x18656bac828>"
      ]
     },
     "execution_count": 15,
     "metadata": {},
     "output_type": "execute_result"
    }
   ],
   "source": [
    "map_Toronto = folium.Map(location=[latitude, longitude], zoom_start=10)\n",
    "\n",
    "# add markers to map\n",
    "for lat, lng, borough, neighborhood in zip(df['Latitude'], df['Longitude'], df['Borough'], df['Neighborhood']):\n",
    "    label = '{}, {}'.format(neighborhood, borough)\n",
    "    label = folium.Popup(label, parse_html=True)\n",
    "    folium.CircleMarker(\n",
    "        [lat, lng],\n",
    "        radius=5,\n",
    "        popup=label,\n",
    "        color='blue',\n",
    "        fill=True,\n",
    "        fill_color='#3186cc',\n",
    "        fill_opacity=0.7,\n",
    "        ).add_to(map_Toronto)  \n",
    "    \n",
    "map_Toronto"
   ]
  },
  {
   "cell_type": "code",
   "execution_count": 16,
   "metadata": {},
   "outputs": [
    {
     "name": "stdout",
     "output_type": "stream",
     "text": [
      "Your credentails:\n",
      "CLIENT_ID: XLBDRGURZVOOULUGDUC4DSJZSRE5ZI0XPB1WA5RV3YL5D1TP\n",
      "CLIENT_SECRET:5TW0I4L1WKC5A0H1NZHEDZD535BFN1CDQ2MRHBW1VBNFUTEK\n"
     ]
    }
   ],
   "source": [
    "CLIENT_ID = 'XLBDRGURZVOOULUGDUC4DSJZSRE5ZI0XPB1WA5RV3YL5D1TP' # your Foursquare ID\n",
    "CLIENT_SECRET = '5TW0I4L1WKC5A0H1NZHEDZD535BFN1CDQ2MRHBW1VBNFUTEK' # your Foursquare Secret\n",
    "VERSION = '20180604' # Foursquare API version\n",
    "\n",
    "print('Your credentails:')\n",
    "print('CLIENT_ID: ' + CLIENT_ID)\n",
    "print('CLIENT_SECRET:' + CLIENT_SECRET)"
   ]
  },
  {
   "cell_type": "code",
   "execution_count": 20,
   "metadata": {},
   "outputs": [
    {
     "name": "stdout",
     "output_type": "stream",
     "text": [
      "Latitude and longitude values of Malvern, Rouge are 43.806686299999996, -79.19435340000001.\n"
     ]
    }
   ],
   "source": [
    "neighborhood_latitude = df.loc[0, 'Latitude'] # neighborhood latitude value\n",
    "neighborhood_longitude = df.loc[0, 'Longitude'] # neighborhood longitude value\n",
    "\n",
    "neighborhood_name = df.loc[0, 'Neighborhood'] # neighborhood name\n",
    "\n",
    "print('Latitude and longitude values of {} are {}, {}.'.format(neighborhood_name, \n",
    "                                                               neighborhood_latitude, \n",
    "                                                               neighborhood_longitude))"
   ]
  },
  {
   "cell_type": "code",
   "execution_count": 21,
   "metadata": {},
   "outputs": [
    {
     "data": {
      "text/plain": [
       "'https://api.foursquare.com/v2/venues/explore?&client_id=XLBDRGURZVOOULUGDUC4DSJZSRE5ZI0XPB1WA5RV3YL5D1TP&client_secret=5TW0I4L1WKC5A0H1NZHEDZD535BFN1CDQ2MRHBW1VBNFUTEK&v=20180604&ll=43.806686299999996,-79.19435340000001&radius=500&limit=100'"
      ]
     },
     "execution_count": 21,
     "metadata": {},
     "output_type": "execute_result"
    }
   ],
   "source": [
    "LIMIT = 100\n",
    "radius = 500\n",
    "url = 'https://api.foursquare.com/v2/venues/explore?&client_id={}&client_secret={}&v={}&ll={},{}&radius={}&limit={}'.format(\n",
    "    CLIENT_ID, \n",
    "    CLIENT_SECRET, \n",
    "    VERSION, \n",
    "    neighborhood_latitude, \n",
    "    neighborhood_longitude, \n",
    "    radius, \n",
    "    LIMIT)\n",
    "url"
   ]
  },
  {
   "cell_type": "code",
   "execution_count": 22,
   "metadata": {},
   "outputs": [],
   "source": [
    "results = requests.get(url).json()"
   ]
  },
  {
   "cell_type": "code",
   "execution_count": 23,
   "metadata": {},
   "outputs": [],
   "source": [
    "# function that extracts the category of the venue\n",
    "def get_category_type(row):\n",
    "    try:\n",
    "        categories_list = row['categories']\n",
    "    except:\n",
    "        categories_list = row['venue.categories']\n",
    "        \n",
    "    if len(categories_list) == 0:\n",
    "        return None\n",
    "    else:\n",
    "        return categories_list[0]['name']"
   ]
  },
  {
   "cell_type": "code",
   "execution_count": 25,
   "metadata": {},
   "outputs": [
    {
     "data": {
      "text/html": [
       "<div>\n",
       "<style scoped>\n",
       "    .dataframe tbody tr th:only-of-type {\n",
       "        vertical-align: middle;\n",
       "    }\n",
       "\n",
       "    .dataframe tbody tr th {\n",
       "        vertical-align: top;\n",
       "    }\n",
       "\n",
       "    .dataframe thead th {\n",
       "        text-align: right;\n",
       "    }\n",
       "</style>\n",
       "<table border=\"1\" class=\"dataframe\">\n",
       "  <thead>\n",
       "    <tr style=\"text-align: right;\">\n",
       "      <th></th>\n",
       "      <th>name</th>\n",
       "      <th>categories</th>\n",
       "      <th>lat</th>\n",
       "      <th>lng</th>\n",
       "    </tr>\n",
       "  </thead>\n",
       "  <tbody>\n",
       "    <tr>\n",
       "      <th>0</th>\n",
       "      <td>Wendy’s</td>\n",
       "      <td>Fast Food Restaurant</td>\n",
       "      <td>43.807448</td>\n",
       "      <td>-79.199056</td>\n",
       "    </tr>\n",
       "  </tbody>\n",
       "</table>\n",
       "</div>"
      ],
      "text/plain": [
       "      name            categories        lat        lng\n",
       "0  Wendy’s  Fast Food Restaurant  43.807448 -79.199056"
      ]
     },
     "execution_count": 25,
     "metadata": {},
     "output_type": "execute_result"
    }
   ],
   "source": [
    "import json\n",
    "from pandas.io.json import json_normalize\n",
    "\n",
    "venues = results['response']['groups'][0]['items']\n",
    "    \n",
    "nearby_venues = json_normalize(venues) # flatten JSON\n",
    "\n",
    "# filter columns\n",
    "filtered_columns = ['venue.name', 'venue.categories', 'venue.location.lat', 'venue.location.lng']\n",
    "nearby_venues =nearby_venues.loc[:, filtered_columns]\n",
    "\n",
    "# filter the category for each row\n",
    "nearby_venues['venue.categories'] = nearby_venues.apply(get_category_type, axis=1)\n",
    "\n",
    "# clean columns\n",
    "nearby_venues.columns = [col.split(\".\")[-1] for col in nearby_venues.columns]\n",
    "\n",
    "nearby_venues.head()"
   ]
  },
  {
   "cell_type": "code",
   "execution_count": null,
   "metadata": {},
   "outputs": [],
   "source": []
  }
 ],
 "metadata": {
  "kernelspec": {
   "display_name": "Python 3",
   "language": "python",
   "name": "python3"
  },
  "language_info": {
   "codemirror_mode": {
    "name": "ipython",
    "version": 3
   },
   "file_extension": ".py",
   "mimetype": "text/x-python",
   "name": "python",
   "nbconvert_exporter": "python",
   "pygments_lexer": "ipython3",
   "version": "3.7.3"
  }
 },
 "nbformat": 4,
 "nbformat_minor": 2
}
